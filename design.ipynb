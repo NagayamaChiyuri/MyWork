{
 "cells": [
  {
   "cell_type": "code",
   "execution_count": null,
   "id": "4f86d711",
   "metadata": {},
   "outputs": [],
   "source": [
    "import random\n",
    "\n",
    "num = input(\"何色を作成しますか？\")\n",
    "print(\"今日の\" + num + \"色です。\")\n",
    "\n",
    "j = 1\n",
    "\n",
    "for i in range(0, int(num)):\n",
    "    rgb_col = random.sample(range(0, 255), 3)\n",
    "    r_col = rgb_col[0]\n",
    "    g_col = rgb_col[1]\n",
    "    b_col = rgb_col[2]\n",
    "\n",
    "    print(str(j) + \"色目：\" + \" R：\" + str(r_col) + \" G：\" + str(g_col) + \" B:\" + str(b_col))    \n",
    "    j = j + 1"
   ]
  },
  {
   "cell_type": "code",
   "execution_count": null,
   "id": "0e722a64",
   "metadata": {},
   "outputs": [],
   "source": []
  }
 ],
 "metadata": {
  "kernelspec": {
   "display_name": "Python 3 (ipykernel)",
   "language": "python",
   "name": "python3"
  },
  "language_info": {
   "codemirror_mode": {
    "name": "ipython",
    "version": 3
   },
   "file_extension": ".py",
   "mimetype": "text/x-python",
   "name": "python",
   "nbconvert_exporter": "python",
   "pygments_lexer": "ipython3",
   "version": "3.9.12"
  }
 },
 "nbformat": 4,
 "nbformat_minor": 5
}
