{
 "cells": [
  {
   "cell_type": "code",
   "execution_count": null,
   "id": "0e5d84d2",
   "metadata": {},
   "outputs": [],
   "source": [
    "import calendar\n",
    "\n",
    "year = int(input(\"何年の家計簿ですか？\"))\n",
    "month = int(input(\"何月分の家計簿ですか？\"))\n",
    "\n",
    "num = calendar.monthrange(year, month)[1]                          \n",
    "food = 3000 * num\n",
    "                          \n",
    "ps = int(15000 / 12)\n",
    "ai = int(30000 / 12)\n",
    "rush = int(15000 / 12)\n",
    "virus = int(10000 / 12)\n",
    "\n",
    "med = 5000\n",
    "supl = 5000\n",
    "wifi = 5000\n",
    "hobby = 10000\n",
    "clean = 30000\n",
    "\n",
    "train = int(input(\"通勤定期代は、いくらですか？\"))\n",
    "                          \n",
    "total = ps + ai + rush + virus + med + supl + wifi + hobby + clean + train\n",
    "print(\"今月の支出は、\" + str(total) + \"円です。\")\n"
   ]
  },
  {
   "cell_type": "code",
   "execution_count": null,
   "id": "dd7a5c83",
   "metadata": {},
   "outputs": [],
   "source": []
  }
 ],
 "metadata": {
  "kernelspec": {
   "display_name": "Python 3 (ipykernel)",
   "language": "python",
   "name": "python3"
  },
  "language_info": {
   "codemirror_mode": {
    "name": "ipython",
    "version": 3
   },
   "file_extension": ".py",
   "mimetype": "text/x-python",
   "name": "python",
   "nbconvert_exporter": "python",
   "pygments_lexer": "ipython3",
   "version": "3.9.12"
  }
 },
 "nbformat": 4,
 "nbformat_minor": 5
}
